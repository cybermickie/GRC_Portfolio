{
 "cells": [
  {
   "cell_type": "code",
   "execution_count": 1,
   "id": "1be04d8a-d955-47d9-94d2-f6098e1c0458",
   "metadata": {},
   "outputs": [],
   "source": [
    "import pandas as pd"
   ]
  },
  {
   "cell_type": "code",
   "execution_count": 5,
   "id": "6ec40e1b-20f4-42e3-bd4c-6a64e99cf97b",
   "metadata": {},
   "outputs": [
    {
     "data": {
      "text/html": [
       "<div>\n",
       "<style scoped>\n",
       "    .dataframe tbody tr th:only-of-type {\n",
       "        vertical-align: middle;\n",
       "    }\n",
       "\n",
       "    .dataframe tbody tr th {\n",
       "        vertical-align: top;\n",
       "    }\n",
       "\n",
       "    .dataframe thead th {\n",
       "        text-align: right;\n",
       "    }\n",
       "</style>\n",
       "<table border=\"1\" class=\"dataframe\">\n",
       "  <thead>\n",
       "    <tr style=\"text-align: right;\">\n",
       "      <th></th>\n",
       "      <th>Risk ID</th>\n",
       "      <th>Risk Description</th>\n",
       "      <th>Likelihood (1-5)</th>\n",
       "      <th>Impact (1-5)</th>\n",
       "      <th>Risk Appetite</th>\n",
       "      <th>Risk Tolerance</th>\n",
       "      <th>Status</th>\n",
       "    </tr>\n",
       "  </thead>\n",
       "  <tbody>\n",
       "    <tr>\n",
       "      <th>0</th>\n",
       "      <td>R1</td>\n",
       "      <td>Data breach in HR system</td>\n",
       "      <td>4</td>\n",
       "      <td>5</td>\n",
       "      <td>12</td>\n",
       "      <td>15</td>\n",
       "      <td>High</td>\n",
       "    </tr>\n",
       "    <tr>\n",
       "      <th>1</th>\n",
       "      <td>R2</td>\n",
       "      <td>Vendor system outage</td>\n",
       "      <td>3</td>\n",
       "      <td>4</td>\n",
       "      <td>12</td>\n",
       "      <td>15</td>\n",
       "      <td>Medium</td>\n",
       "    </tr>\n",
       "    <tr>\n",
       "      <th>2</th>\n",
       "      <td>R3</td>\n",
       "      <td>Insider threat</td>\n",
       "      <td>2</td>\n",
       "      <td>5</td>\n",
       "      <td>12</td>\n",
       "      <td>15</td>\n",
       "      <td>Medium</td>\n",
       "    </tr>\n",
       "    <tr>\n",
       "      <th>3</th>\n",
       "      <td>R4</td>\n",
       "      <td>Phishing attack</td>\n",
       "      <td>5</td>\n",
       "      <td>3</td>\n",
       "      <td>12</td>\n",
       "      <td>15</td>\n",
       "      <td>High</td>\n",
       "    </tr>\n",
       "    <tr>\n",
       "      <th>4</th>\n",
       "      <td>R5</td>\n",
       "      <td>Financial reporting error</td>\n",
       "      <td>2</td>\n",
       "      <td>4</td>\n",
       "      <td>12</td>\n",
       "      <td>15</td>\n",
       "      <td>Low</td>\n",
       "    </tr>\n",
       "    <tr>\n",
       "      <th>5</th>\n",
       "      <td>R6</td>\n",
       "      <td>Cloud service misconfig</td>\n",
       "      <td>4</td>\n",
       "      <td>4</td>\n",
       "      <td>12</td>\n",
       "      <td>15</td>\n",
       "      <td>High</td>\n",
       "    </tr>\n",
       "  </tbody>\n",
       "</table>\n",
       "</div>"
      ],
      "text/plain": [
       "  Risk ID           Risk Description  Likelihood (1-5)  Impact (1-5)  \\\n",
       "0      R1   Data breach in HR system                 4             5   \n",
       "1      R2       Vendor system outage                 3             4   \n",
       "2      R3             Insider threat                 2             5   \n",
       "3      R4            Phishing attack                 5             3   \n",
       "4      R5  Financial reporting error                 2             4   \n",
       "5      R6    Cloud service misconfig                 4             4   \n",
       "\n",
       "   Risk Appetite  Risk Tolerance  Status  \n",
       "0             12              15    High  \n",
       "1             12              15  Medium  \n",
       "2             12              15  Medium  \n",
       "3             12              15    High  \n",
       "4             12              15     Low  \n",
       "5             12              15    High  "
      ]
     },
     "execution_count": 5,
     "metadata": {},
     "output_type": "execute_result"
    }
   ],
   "source": [
    "# Load the Risk Register file\n",
    "df = pd.read_excel(\"/media/sf_Shared_docs/Risk_Register_2025.xlsx\")\n",
    "\n",
    "# Display the table\n",
    "df"
   ]
  },
  {
   "cell_type": "code",
   "execution_count": 6,
   "id": "4cc16611-fb15-497f-b740-f24ea5f3c551",
   "metadata": {},
   "outputs": [
    {
     "data": {
      "text/html": [
       "<div>\n",
       "<style scoped>\n",
       "    .dataframe tbody tr th:only-of-type {\n",
       "        vertical-align: middle;\n",
       "    }\n",
       "\n",
       "    .dataframe tbody tr th {\n",
       "        vertical-align: top;\n",
       "    }\n",
       "\n",
       "    .dataframe thead th {\n",
       "        text-align: right;\n",
       "    }\n",
       "</style>\n",
       "<table border=\"1\" class=\"dataframe\">\n",
       "  <thead>\n",
       "    <tr style=\"text-align: right;\">\n",
       "      <th></th>\n",
       "      <th>Risk ID</th>\n",
       "      <th>Risk Description</th>\n",
       "      <th>Likelihood (1-5)</th>\n",
       "      <th>Impact (1-5)</th>\n",
       "      <th>Risk Appetite</th>\n",
       "      <th>Risk Tolerance</th>\n",
       "      <th>Status</th>\n",
       "      <th>Risk Score</th>\n",
       "    </tr>\n",
       "  </thead>\n",
       "  <tbody>\n",
       "    <tr>\n",
       "      <th>0</th>\n",
       "      <td>R1</td>\n",
       "      <td>Data breach in HR system</td>\n",
       "      <td>4</td>\n",
       "      <td>5</td>\n",
       "      <td>12</td>\n",
       "      <td>15</td>\n",
       "      <td>High</td>\n",
       "      <td>20</td>\n",
       "    </tr>\n",
       "    <tr>\n",
       "      <th>1</th>\n",
       "      <td>R2</td>\n",
       "      <td>Vendor system outage</td>\n",
       "      <td>3</td>\n",
       "      <td>4</td>\n",
       "      <td>12</td>\n",
       "      <td>15</td>\n",
       "      <td>Medium</td>\n",
       "      <td>12</td>\n",
       "    </tr>\n",
       "    <tr>\n",
       "      <th>2</th>\n",
       "      <td>R3</td>\n",
       "      <td>Insider threat</td>\n",
       "      <td>2</td>\n",
       "      <td>5</td>\n",
       "      <td>12</td>\n",
       "      <td>15</td>\n",
       "      <td>Medium</td>\n",
       "      <td>10</td>\n",
       "    </tr>\n",
       "    <tr>\n",
       "      <th>3</th>\n",
       "      <td>R4</td>\n",
       "      <td>Phishing attack</td>\n",
       "      <td>5</td>\n",
       "      <td>3</td>\n",
       "      <td>12</td>\n",
       "      <td>15</td>\n",
       "      <td>High</td>\n",
       "      <td>15</td>\n",
       "    </tr>\n",
       "    <tr>\n",
       "      <th>4</th>\n",
       "      <td>R5</td>\n",
       "      <td>Financial reporting error</td>\n",
       "      <td>2</td>\n",
       "      <td>4</td>\n",
       "      <td>12</td>\n",
       "      <td>15</td>\n",
       "      <td>Low</td>\n",
       "      <td>8</td>\n",
       "    </tr>\n",
       "    <tr>\n",
       "      <th>5</th>\n",
       "      <td>R6</td>\n",
       "      <td>Cloud service misconfig</td>\n",
       "      <td>4</td>\n",
       "      <td>4</td>\n",
       "      <td>12</td>\n",
       "      <td>15</td>\n",
       "      <td>High</td>\n",
       "      <td>16</td>\n",
       "    </tr>\n",
       "  </tbody>\n",
       "</table>\n",
       "</div>"
      ],
      "text/plain": [
       "  Risk ID           Risk Description  Likelihood (1-5)  Impact (1-5)  \\\n",
       "0      R1   Data breach in HR system                 4             5   \n",
       "1      R2       Vendor system outage                 3             4   \n",
       "2      R3             Insider threat                 2             5   \n",
       "3      R4            Phishing attack                 5             3   \n",
       "4      R5  Financial reporting error                 2             4   \n",
       "5      R6    Cloud service misconfig                 4             4   \n",
       "\n",
       "   Risk Appetite  Risk Tolerance  Status  Risk Score  \n",
       "0             12              15    High          20  \n",
       "1             12              15  Medium          12  \n",
       "2             12              15  Medium          10  \n",
       "3             12              15    High          15  \n",
       "4             12              15     Low           8  \n",
       "5             12              15    High          16  "
      ]
     },
     "metadata": {},
     "output_type": "display_data"
    }
   ],
   "source": [
    "# Calculate Risk Score\n",
    "df[\"Risk Score\"] = df[\"Likelihood (1-5)\"] * df[\"Impact (1-5)\"]\n",
    "\n",
    "# Display updated table\n",
    "display(df)"
   ]
  },
  {
   "cell_type": "code",
   "execution_count": 9,
   "id": "f5e28727-2d72-4e29-9d76-dadd398df543",
   "metadata": {},
   "outputs": [
    {
     "name": "stdout",
     "output_type": "stream",
     "text": [
      "\n",
      "High Risks:\n"
     ]
    },
    {
     "data": {
      "text/html": [
       "<div>\n",
       "<style scoped>\n",
       "    .dataframe tbody tr th:only-of-type {\n",
       "        vertical-align: middle;\n",
       "    }\n",
       "\n",
       "    .dataframe tbody tr th {\n",
       "        vertical-align: top;\n",
       "    }\n",
       "\n",
       "    .dataframe thead th {\n",
       "        text-align: right;\n",
       "    }\n",
       "</style>\n",
       "<table border=\"1\" class=\"dataframe\">\n",
       "  <thead>\n",
       "    <tr style=\"text-align: right;\">\n",
       "      <th></th>\n",
       "      <th>Risk ID</th>\n",
       "      <th>Risk Description</th>\n",
       "      <th>Likelihood (1-5)</th>\n",
       "      <th>Impact (1-5)</th>\n",
       "      <th>Risk Appetite</th>\n",
       "      <th>Risk Tolerance</th>\n",
       "      <th>Status</th>\n",
       "      <th>Risk Score</th>\n",
       "    </tr>\n",
       "  </thead>\n",
       "  <tbody>\n",
       "    <tr>\n",
       "      <th>0</th>\n",
       "      <td>R1</td>\n",
       "      <td>Data breach in HR system</td>\n",
       "      <td>4</td>\n",
       "      <td>5</td>\n",
       "      <td>12</td>\n",
       "      <td>15</td>\n",
       "      <td>High</td>\n",
       "      <td>20</td>\n",
       "    </tr>\n",
       "    <tr>\n",
       "      <th>3</th>\n",
       "      <td>R4</td>\n",
       "      <td>Phishing attack</td>\n",
       "      <td>5</td>\n",
       "      <td>3</td>\n",
       "      <td>12</td>\n",
       "      <td>15</td>\n",
       "      <td>High</td>\n",
       "      <td>15</td>\n",
       "    </tr>\n",
       "    <tr>\n",
       "      <th>5</th>\n",
       "      <td>R6</td>\n",
       "      <td>Cloud service misconfig</td>\n",
       "      <td>4</td>\n",
       "      <td>4</td>\n",
       "      <td>12</td>\n",
       "      <td>15</td>\n",
       "      <td>High</td>\n",
       "      <td>16</td>\n",
       "    </tr>\n",
       "  </tbody>\n",
       "</table>\n",
       "</div>"
      ],
      "text/plain": [
       "  Risk ID          Risk Description  Likelihood (1-5)  Impact (1-5)  \\\n",
       "0      R1  Data breach in HR system                 4             5   \n",
       "3      R4           Phishing attack                 5             3   \n",
       "5      R6   Cloud service misconfig                 4             4   \n",
       "\n",
       "   Risk Appetite  Risk Tolerance Status  Risk Score  \n",
       "0             12              15   High          20  \n",
       "3             12              15   High          15  \n",
       "5             12              15   High          16  "
      ]
     },
     "metadata": {},
     "output_type": "display_data"
    },
    {
     "name": "stdout",
     "output_type": "stream",
     "text": [
      "\n",
      "Medium Risks\n"
     ]
    },
    {
     "data": {
      "text/html": [
       "<div>\n",
       "<style scoped>\n",
       "    .dataframe tbody tr th:only-of-type {\n",
       "        vertical-align: middle;\n",
       "    }\n",
       "\n",
       "    .dataframe tbody tr th {\n",
       "        vertical-align: top;\n",
       "    }\n",
       "\n",
       "    .dataframe thead th {\n",
       "        text-align: right;\n",
       "    }\n",
       "</style>\n",
       "<table border=\"1\" class=\"dataframe\">\n",
       "  <thead>\n",
       "    <tr style=\"text-align: right;\">\n",
       "      <th></th>\n",
       "      <th>Risk ID</th>\n",
       "      <th>Risk Description</th>\n",
       "      <th>Likelihood (1-5)</th>\n",
       "      <th>Impact (1-5)</th>\n",
       "      <th>Risk Appetite</th>\n",
       "      <th>Risk Tolerance</th>\n",
       "      <th>Status</th>\n",
       "      <th>Risk Score</th>\n",
       "    </tr>\n",
       "  </thead>\n",
       "  <tbody>\n",
       "  </tbody>\n",
       "</table>\n",
       "</div>"
      ],
      "text/plain": [
       "Empty DataFrame\n",
       "Columns: [Risk ID, Risk Description, Likelihood (1-5), Impact (1-5), Risk Appetite, Risk Tolerance, Status, Risk Score]\n",
       "Index: []"
      ]
     },
     "metadata": {},
     "output_type": "display_data"
    },
    {
     "name": "stdout",
     "output_type": "stream",
     "text": [
      "\n",
      "Low Risks:\n"
     ]
    },
    {
     "data": {
      "text/html": [
       "<div>\n",
       "<style scoped>\n",
       "    .dataframe tbody tr th:only-of-type {\n",
       "        vertical-align: middle;\n",
       "    }\n",
       "\n",
       "    .dataframe tbody tr th {\n",
       "        vertical-align: top;\n",
       "    }\n",
       "\n",
       "    .dataframe thead th {\n",
       "        text-align: right;\n",
       "    }\n",
       "</style>\n",
       "<table border=\"1\" class=\"dataframe\">\n",
       "  <thead>\n",
       "    <tr style=\"text-align: right;\">\n",
       "      <th></th>\n",
       "      <th>Risk ID</th>\n",
       "      <th>Risk Description</th>\n",
       "      <th>Likelihood (1-5)</th>\n",
       "      <th>Impact (1-5)</th>\n",
       "      <th>Risk Appetite</th>\n",
       "      <th>Risk Tolerance</th>\n",
       "      <th>Status</th>\n",
       "      <th>Risk Score</th>\n",
       "    </tr>\n",
       "  </thead>\n",
       "  <tbody>\n",
       "    <tr>\n",
       "      <th>4</th>\n",
       "      <td>R5</td>\n",
       "      <td>Financial reporting error</td>\n",
       "      <td>2</td>\n",
       "      <td>4</td>\n",
       "      <td>12</td>\n",
       "      <td>15</td>\n",
       "      <td>Low</td>\n",
       "      <td>8</td>\n",
       "    </tr>\n",
       "  </tbody>\n",
       "</table>\n",
       "</div>"
      ],
      "text/plain": [
       "  Risk ID           Risk Description  Likelihood (1-5)  Impact (1-5)  \\\n",
       "4      R5  Financial reporting error                 2             4   \n",
       "\n",
       "   Risk Appetite  Risk Tolerance Status  Risk Score  \n",
       "4             12              15    Low           8  "
      ]
     },
     "metadata": {},
     "output_type": "display_data"
    }
   ],
   "source": [
    "# Filtering Risks by Status\n",
    "df_high = df[df[\"Status\"] == \"High\"]\n",
    "df_medium = df[df[\"Status\"] == \"Meduim\"]\n",
    "df_low = df[df[\"Status\"] == \"Low\"]\n",
    "\n",
    "# Display results\n",
    "print(\"\\nHigh Risks:\")\n",
    "display(df_high)\n",
    "\n",
    "print(\"\\nMedium Risks\")\n",
    "display(df_medium)\n",
    "\n",
    "print(\"\\nLow Risks:\")\n",
    "display(df_low)"
   ]
  },
  {
   "cell_type": "code",
   "execution_count": 11,
   "id": "c1e63f45-f458-4dd7-9569-5b84be2f009e",
   "metadata": {},
   "outputs": [
    {
     "name": "stdout",
     "output_type": "stream",
     "text": [
      "\n",
      "Count by Risks by Status:\n"
     ]
    },
    {
     "data": {
      "text/plain": [
       "Status\n",
       "High      3\n",
       "Low       1\n",
       "Medium    2\n",
       "Name: Risk ID, dtype: int64"
      ]
     },
     "metadata": {},
     "output_type": "display_data"
    }
   ],
   "source": [
    "#Group by Status to count number of risks\n",
    "grouped_status = df.groupby(\"Status\")[\"Risk ID\"].count()\n",
    "\n",
    "# Display results\n",
    "print(\"\\nCount by Risks by Status:\")\n",
    "display(grouped_status)"
   ]
  },
  {
   "cell_type": "code",
   "execution_count": 17,
   "id": "6032e760-ed28-43ea-bd8f-aeed667d1a0a",
   "metadata": {},
   "outputs": [
    {
     "name": "stdout",
     "output_type": "stream",
     "text": [
      "\n",
      "Total Risk Score by Status:\n"
     ]
    },
    {
     "data": {
      "text/plain": [
       "Status\n",
       "High      51\n",
       "Low        8\n",
       "Medium    22\n",
       "Name: Risk Score, dtype: int64"
      ]
     },
     "metadata": {},
     "output_type": "display_data"
    },
    {
     "name": "stdout",
     "output_type": "stream",
     "text": [
      "\n",
      "Average Risk Score by Status:\n"
     ]
    },
    {
     "data": {
      "text/plain": [
       "Status\n",
       "High      17.0\n",
       "Low        8.0\n",
       "Medium    11.0\n",
       "Name: Risk Score, dtype: float64"
      ]
     },
     "metadata": {},
     "output_type": "display_data"
    },
    {
     "name": "stdout",
     "output_type": "stream",
     "text": [
      "\n",
      "Maximum Risk Score by Status:\n"
     ]
    },
    {
     "data": {
      "text/plain": [
       "Status\n",
       "High      20\n",
       "Low        8\n",
       "Medium    12\n",
       "Name: Risk Score, dtype: int64"
      ]
     },
     "metadata": {},
     "output_type": "display_data"
    },
    {
     "name": "stdout",
     "output_type": "stream",
     "text": [
      "\n",
      "Minimum Risk Score by Status:\n"
     ]
    },
    {
     "data": {
      "text/plain": [
       "Status\n",
       "High      15\n",
       "Low        8\n",
       "Medium    10\n",
       "Name: Risk Score, dtype: int64"
      ]
     },
     "metadata": {},
     "output_type": "display_data"
    }
   ],
   "source": [
    "# Sum of Risk Scores by Status\n",
    "total_risk = df.groupby(\"Status\")[\"Risk Score\"].sum()\n",
    "\n",
    "# Avearage Risk Score by Status\n",
    "avg_risk = df.groupby(\"Status\")[\"Risk Score\"].mean()\n",
    "\n",
    "# Maximum Risk Score by Status\n",
    "max_risk = df.groupby(\"Status\")[\"Risk Score\"].max()\n",
    "\n",
    "# Minimum Risk Score by Status\n",
    "min_risk = df.groupby(\"Status\")[\"Risk Score\"].min()\n",
    "\n",
    "# Display results\n",
    "print(\"\\nTotal Risk Score by Status:\")\n",
    "display(total_risk)\n",
    "\n",
    "print(\"\\nAverage Risk Score by Status:\")\n",
    "display(avg_risk)\n",
    "\n",
    "print(\"\\nMaximum Risk Score by Status:\")\n",
    "display(max_risk)\n",
    "\n",
    "print(\"\\nMinimum Risk Score by Status:\")\n",
    "display(min_risk)"
   ]
  },
  {
   "cell_type": "code",
   "execution_count": null,
   "id": "051a604e-b168-47e8-b2c3-3b6bb41e8d00",
   "metadata": {},
   "outputs": [],
   "source": []
  }
 ],
 "metadata": {
  "kernelspec": {
   "display_name": "Python 3 (ipykernel)",
   "language": "python",
   "name": "python3"
  },
  "language_info": {
   "codemirror_mode": {
    "name": "ipython",
    "version": 3
   },
   "file_extension": ".py",
   "mimetype": "text/x-python",
   "name": "python",
   "nbconvert_exporter": "python",
   "pygments_lexer": "ipython3",
   "version": "3.12.3"
  }
 },
 "nbformat": 4,
 "nbformat_minor": 5
}
