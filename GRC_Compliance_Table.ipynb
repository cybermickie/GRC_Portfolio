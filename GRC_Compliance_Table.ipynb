{
 "cells": [
  {
   "cell_type": "code",
   "execution_count": 1,
   "id": "f51f8094-3da6-44fc-921d-e70811f6d728",
   "metadata": {},
   "outputs": [],
   "source": [
    "import pandas as pd"
   ]
  },
  {
   "cell_type": "code",
   "execution_count": 2,
   "id": "c6a5efb8-8ea7-455d-bbc2-e8da1ba4938f",
   "metadata": {},
   "outputs": [],
   "source": [
    "# Load your Excel file directly\n",
    "df = pd.read_excel(\"/media/sf_Shared_docs/GRC_Compliance_Table_2025-09-02.xlsx\")"
   ]
  },
  {
   "cell_type": "code",
   "execution_count": 3,
   "id": "060450cf-d284-4591-bc6b-a2b48acc35c4",
   "metadata": {},
   "outputs": [
    {
     "data": {
      "text/html": [
       "<div>\n",
       "<style scoped>\n",
       "    .dataframe tbody tr th:only-of-type {\n",
       "        vertical-align: middle;\n",
       "    }\n",
       "\n",
       "    .dataframe tbody tr th {\n",
       "        vertical-align: top;\n",
       "    }\n",
       "\n",
       "    .dataframe thead th {\n",
       "        text-align: right;\n",
       "    }\n",
       "</style>\n",
       "<table border=\"1\" class=\"dataframe\">\n",
       "  <thead>\n",
       "    <tr style=\"text-align: right;\">\n",
       "      <th></th>\n",
       "      <th>Control ID</th>\n",
       "      <th>Control Name</th>\n",
       "      <th>Regulation/Framework</th>\n",
       "      <th>Control Description</th>\n",
       "      <th>Control Owner</th>\n",
       "      <th>Status</th>\n",
       "      <th>Evidence Link</th>\n",
       "      <th>Risk Rating (1-5)</th>\n",
       "    </tr>\n",
       "  </thead>\n",
       "  <tbody>\n",
       "    <tr>\n",
       "      <th>0</th>\n",
       "      <td>C1</td>\n",
       "      <td>Access Control Policy</td>\n",
       "      <td>SOX</td>\n",
       "      <td>Ensure proper segregation of duties and acess ...</td>\n",
       "      <td>IT Security</td>\n",
       "      <td>Implemented</td>\n",
       "      <td>Link_to_evidence</td>\n",
       "      <td>4</td>\n",
       "    </tr>\n",
       "    <tr>\n",
       "      <th>1</th>\n",
       "      <td>C2</td>\n",
       "      <td>Data Privacy Policy</td>\n",
       "      <td>HIPAA</td>\n",
       "      <td>Protect patient health information and maintai...</td>\n",
       "      <td>Compliance Officer</td>\n",
       "      <td>Pending</td>\n",
       "      <td>Link_to_evidence</td>\n",
       "      <td>5</td>\n",
       "    </tr>\n",
       "    <tr>\n",
       "      <th>2</th>\n",
       "      <td>C3</td>\n",
       "      <td>Incident Response Plan</td>\n",
       "      <td>NIST CSF</td>\n",
       "      <td>Establish processes to detect, respond and rec...</td>\n",
       "      <td>IT Security</td>\n",
       "      <td>Implemented</td>\n",
       "      <td>Link_to_evidence</td>\n",
       "      <td>3</td>\n",
       "    </tr>\n",
       "    <tr>\n",
       "      <th>3</th>\n",
       "      <td>C4</td>\n",
       "      <td>Vendor Risk Assessment</td>\n",
       "      <td>NIST CSF</td>\n",
       "      <td>Assess third-party vendors for cybersecurity a...</td>\n",
       "      <td>Procurement</td>\n",
       "      <td>In Progress</td>\n",
       "      <td>Link_to_evidence</td>\n",
       "      <td>3</td>\n",
       "    </tr>\n",
       "    <tr>\n",
       "      <th>4</th>\n",
       "      <td>C5</td>\n",
       "      <td>Financial Reporting Controls</td>\n",
       "      <td>SOX</td>\n",
       "      <td>Ensure accuracy and completeness of financial ...</td>\n",
       "      <td>Finance</td>\n",
       "      <td>Implemented</td>\n",
       "      <td>Link_to_evidence</td>\n",
       "      <td>4</td>\n",
       "    </tr>\n",
       "    <tr>\n",
       "      <th>5</th>\n",
       "      <td>C6</td>\n",
       "      <td>Security Awareness Training</td>\n",
       "      <td>HIPAA</td>\n",
       "      <td>Train staff on data protection and privacy pol...</td>\n",
       "      <td>HR / IT</td>\n",
       "      <td>Implemented</td>\n",
       "      <td>Link_to_evidence</td>\n",
       "      <td>2</td>\n",
       "    </tr>\n",
       "  </tbody>\n",
       "</table>\n",
       "</div>"
      ],
      "text/plain": [
       "  Control ID                  Control Name Regulation/Framework  \\\n",
       "0         C1         Access Control Policy                  SOX   \n",
       "1         C2           Data Privacy Policy                HIPAA   \n",
       "2         C3        Incident Response Plan             NIST CSF   \n",
       "3         C4        Vendor Risk Assessment             NIST CSF   \n",
       "4         C5  Financial Reporting Controls                  SOX   \n",
       "5         C6   Security Awareness Training                HIPAA   \n",
       "\n",
       "                                 Control Description       Control Owner  \\\n",
       "0  Ensure proper segregation of duties and acess ...         IT Security   \n",
       "1  Protect patient health information and maintai...  Compliance Officer   \n",
       "2  Establish processes to detect, respond and rec...         IT Security   \n",
       "3  Assess third-party vendors for cybersecurity a...         Procurement   \n",
       "4  Ensure accuracy and completeness of financial ...             Finance   \n",
       "5  Train staff on data protection and privacy pol...             HR / IT   \n",
       "\n",
       "        Status     Evidence Link  Risk Rating (1-5)  \n",
       "0  Implemented  Link_to_evidence                  4  \n",
       "1      Pending  Link_to_evidence                  5  \n",
       "2  Implemented  Link_to_evidence                  3  \n",
       "3  In Progress  Link_to_evidence                  3  \n",
       "4  Implemented  Link_to_evidence                  4  \n",
       "5  Implemented  Link_to_evidence                  2  "
      ]
     },
     "execution_count": 3,
     "metadata": {},
     "output_type": "execute_result"
    }
   ],
   "source": [
    "# Display the table\n",
    "df"
   ]
  },
  {
   "cell_type": "code",
   "execution_count": 4,
   "id": "26fd9ec5-2712-45dd-b804-a218e35057e5",
   "metadata": {},
   "outputs": [
    {
     "name": "stdout",
     "output_type": "stream",
     "text": [
      "\n",
      "Implemented:\n"
     ]
    },
    {
     "data": {
      "text/html": [
       "<div>\n",
       "<style scoped>\n",
       "    .dataframe tbody tr th:only-of-type {\n",
       "        vertical-align: middle;\n",
       "    }\n",
       "\n",
       "    .dataframe tbody tr th {\n",
       "        vertical-align: top;\n",
       "    }\n",
       "\n",
       "    .dataframe thead th {\n",
       "        text-align: right;\n",
       "    }\n",
       "</style>\n",
       "<table border=\"1\" class=\"dataframe\">\n",
       "  <thead>\n",
       "    <tr style=\"text-align: right;\">\n",
       "      <th></th>\n",
       "      <th>Control ID</th>\n",
       "      <th>Control Name</th>\n",
       "      <th>Regulation/Framework</th>\n",
       "      <th>Control Description</th>\n",
       "      <th>Control Owner</th>\n",
       "      <th>Status</th>\n",
       "      <th>Evidence Link</th>\n",
       "      <th>Risk Rating (1-5)</th>\n",
       "    </tr>\n",
       "  </thead>\n",
       "  <tbody>\n",
       "    <tr>\n",
       "      <th>0</th>\n",
       "      <td>C1</td>\n",
       "      <td>Access Control Policy</td>\n",
       "      <td>SOX</td>\n",
       "      <td>Ensure proper segregation of duties and acess ...</td>\n",
       "      <td>IT Security</td>\n",
       "      <td>Implemented</td>\n",
       "      <td>Link_to_evidence</td>\n",
       "      <td>4</td>\n",
       "    </tr>\n",
       "    <tr>\n",
       "      <th>2</th>\n",
       "      <td>C3</td>\n",
       "      <td>Incident Response Plan</td>\n",
       "      <td>NIST CSF</td>\n",
       "      <td>Establish processes to detect, respond and rec...</td>\n",
       "      <td>IT Security</td>\n",
       "      <td>Implemented</td>\n",
       "      <td>Link_to_evidence</td>\n",
       "      <td>3</td>\n",
       "    </tr>\n",
       "    <tr>\n",
       "      <th>4</th>\n",
       "      <td>C5</td>\n",
       "      <td>Financial Reporting Controls</td>\n",
       "      <td>SOX</td>\n",
       "      <td>Ensure accuracy and completeness of financial ...</td>\n",
       "      <td>Finance</td>\n",
       "      <td>Implemented</td>\n",
       "      <td>Link_to_evidence</td>\n",
       "      <td>4</td>\n",
       "    </tr>\n",
       "    <tr>\n",
       "      <th>5</th>\n",
       "      <td>C6</td>\n",
       "      <td>Security Awareness Training</td>\n",
       "      <td>HIPAA</td>\n",
       "      <td>Train staff on data protection and privacy pol...</td>\n",
       "      <td>HR / IT</td>\n",
       "      <td>Implemented</td>\n",
       "      <td>Link_to_evidence</td>\n",
       "      <td>2</td>\n",
       "    </tr>\n",
       "  </tbody>\n",
       "</table>\n",
       "</div>"
      ],
      "text/plain": [
       "  Control ID                  Control Name Regulation/Framework  \\\n",
       "0         C1         Access Control Policy                  SOX   \n",
       "2         C3        Incident Response Plan             NIST CSF   \n",
       "4         C5  Financial Reporting Controls                  SOX   \n",
       "5         C6   Security Awareness Training                HIPAA   \n",
       "\n",
       "                                 Control Description Control Owner  \\\n",
       "0  Ensure proper segregation of duties and acess ...   IT Security   \n",
       "2  Establish processes to detect, respond and rec...   IT Security   \n",
       "4  Ensure accuracy and completeness of financial ...       Finance   \n",
       "5  Train staff on data protection and privacy pol...       HR / IT   \n",
       "\n",
       "        Status     Evidence Link  Risk Rating (1-5)  \n",
       "0  Implemented  Link_to_evidence                  4  \n",
       "2  Implemented  Link_to_evidence                  3  \n",
       "4  Implemented  Link_to_evidence                  4  \n",
       "5  Implemented  Link_to_evidence                  2  "
      ]
     },
     "metadata": {},
     "output_type": "display_data"
    },
    {
     "name": "stdout",
     "output_type": "stream",
     "text": [
      "\n",
      "In Progress:\n"
     ]
    },
    {
     "data": {
      "text/html": [
       "<div>\n",
       "<style scoped>\n",
       "    .dataframe tbody tr th:only-of-type {\n",
       "        vertical-align: middle;\n",
       "    }\n",
       "\n",
       "    .dataframe tbody tr th {\n",
       "        vertical-align: top;\n",
       "    }\n",
       "\n",
       "    .dataframe thead th {\n",
       "        text-align: right;\n",
       "    }\n",
       "</style>\n",
       "<table border=\"1\" class=\"dataframe\">\n",
       "  <thead>\n",
       "    <tr style=\"text-align: right;\">\n",
       "      <th></th>\n",
       "      <th>Control ID</th>\n",
       "      <th>Control Name</th>\n",
       "      <th>Regulation/Framework</th>\n",
       "      <th>Control Description</th>\n",
       "      <th>Control Owner</th>\n",
       "      <th>Status</th>\n",
       "      <th>Evidence Link</th>\n",
       "      <th>Risk Rating (1-5)</th>\n",
       "    </tr>\n",
       "  </thead>\n",
       "  <tbody>\n",
       "    <tr>\n",
       "      <th>3</th>\n",
       "      <td>C4</td>\n",
       "      <td>Vendor Risk Assessment</td>\n",
       "      <td>NIST CSF</td>\n",
       "      <td>Assess third-party vendors for cybersecurity a...</td>\n",
       "      <td>Procurement</td>\n",
       "      <td>In Progress</td>\n",
       "      <td>Link_to_evidence</td>\n",
       "      <td>3</td>\n",
       "    </tr>\n",
       "  </tbody>\n",
       "</table>\n",
       "</div>"
      ],
      "text/plain": [
       "  Control ID            Control Name Regulation/Framework  \\\n",
       "3         C4  Vendor Risk Assessment             NIST CSF   \n",
       "\n",
       "                                 Control Description Control Owner  \\\n",
       "3  Assess third-party vendors for cybersecurity a...   Procurement   \n",
       "\n",
       "        Status     Evidence Link  Risk Rating (1-5)  \n",
       "3  In Progress  Link_to_evidence                  3  "
      ]
     },
     "metadata": {},
     "output_type": "display_data"
    },
    {
     "name": "stdout",
     "output_type": "stream",
     "text": [
      "\n",
      "Pending:\n"
     ]
    },
    {
     "data": {
      "text/html": [
       "<div>\n",
       "<style scoped>\n",
       "    .dataframe tbody tr th:only-of-type {\n",
       "        vertical-align: middle;\n",
       "    }\n",
       "\n",
       "    .dataframe tbody tr th {\n",
       "        vertical-align: top;\n",
       "    }\n",
       "\n",
       "    .dataframe thead th {\n",
       "        text-align: right;\n",
       "    }\n",
       "</style>\n",
       "<table border=\"1\" class=\"dataframe\">\n",
       "  <thead>\n",
       "    <tr style=\"text-align: right;\">\n",
       "      <th></th>\n",
       "      <th>Control ID</th>\n",
       "      <th>Control Name</th>\n",
       "      <th>Regulation/Framework</th>\n",
       "      <th>Control Description</th>\n",
       "      <th>Control Owner</th>\n",
       "      <th>Status</th>\n",
       "      <th>Evidence Link</th>\n",
       "      <th>Risk Rating (1-5)</th>\n",
       "    </tr>\n",
       "  </thead>\n",
       "  <tbody>\n",
       "    <tr>\n",
       "      <th>1</th>\n",
       "      <td>C2</td>\n",
       "      <td>Data Privacy Policy</td>\n",
       "      <td>HIPAA</td>\n",
       "      <td>Protect patient health information and maintai...</td>\n",
       "      <td>Compliance Officer</td>\n",
       "      <td>Pending</td>\n",
       "      <td>Link_to_evidence</td>\n",
       "      <td>5</td>\n",
       "    </tr>\n",
       "  </tbody>\n",
       "</table>\n",
       "</div>"
      ],
      "text/plain": [
       "  Control ID         Control Name Regulation/Framework  \\\n",
       "1         C2  Data Privacy Policy                HIPAA   \n",
       "\n",
       "                                 Control Description       Control Owner  \\\n",
       "1  Protect patient health information and maintai...  Compliance Officer   \n",
       "\n",
       "    Status     Evidence Link  Risk Rating (1-5)  \n",
       "1  Pending  Link_to_evidence                  5  "
      ]
     },
     "metadata": {},
     "output_type": "display_data"
    }
   ],
   "source": [
    "# Filtered DataFrames for each Status\n",
    "df_implemented = df[df[\"Status\"] == \"Implemented\"]\n",
    "df_in_progress = df[df[\"Status\"] == \"In Progress\"]\n",
    "df_pending = df[df[\"Status\"] == \"Pending\"]\n",
    "\n",
    "# Print them all neatly\n",
    "print(\"\\nImplemented:\") \n",
    "display(df_implemented)\n",
    "\n",
    "print(\"\\nIn Progress:\") \n",
    "display(df_in_progress)\n",
    "\n",
    "print(\"\\nPending:\") \n",
    "display(df_pending)"
   ]
  },
  {
   "cell_type": "code",
   "execution_count": 5,
   "id": "d90cf950-fe91-4c90-8f39-124ef960d16e",
   "metadata": {},
   "outputs": [
    {
     "data": {
      "text/plain": [
       "Status\n",
       "Implemented    4\n",
       "In Progress    1\n",
       "Pending        1\n",
       "Name: Control ID, dtype: int64"
      ]
     },
     "metadata": {},
     "output_type": "display_data"
    }
   ],
   "source": [
    "# Count controls by Status\n",
    "grouped_status = df.groupby(\"Status\")[\"Control ID\"].count()\n",
    "#Print results\n",
    "display(grouped_status)"
   ]
  },
  {
   "cell_type": "code",
   "execution_count": 6,
   "id": "5512a63e-7015-4da9-ae28-391571fe795d",
   "metadata": {},
   "outputs": [
    {
     "data": {
      "text/plain": [
       "Status\n",
       "Implemented    13\n",
       "In Progress     3\n",
       "Pending         5\n",
       "Name: Risk Rating (1-5), dtype: int64"
      ]
     },
     "metadata": {},
     "output_type": "display_data"
    }
   ],
   "source": [
    "# Sum of Risk Rating by Status\n",
    "total_risk = df.groupby(\"Status\")[\"Risk Rating (1-5)\"].sum()\n",
    "# Print results \n",
    "display(total_risk)    "
   ]
  },
  {
   "cell_type": "code",
   "execution_count": 7,
   "id": "160635fc-c738-40ce-85ee-ba281fe757a5",
   "metadata": {},
   "outputs": [
    {
     "data": {
      "text/plain": [
       "Status\n",
       "Implemented    3.25\n",
       "In Progress    3.00\n",
       "Pending        5.00\n",
       "Name: Risk Rating (1-5), dtype: float64"
      ]
     },
     "metadata": {},
     "output_type": "display_data"
    }
   ],
   "source": [
    "# Average Risk Rating by Status\n",
    "avg_risk = df.groupby(\"Status\")[\"Risk Rating (1-5)\"].mean()\n",
    "# Print results\n",
    "display(avg_risk)"
   ]
  },
  {
   "cell_type": "code",
   "execution_count": 8,
   "id": "ee4db71a-6d8e-419e-bb78-d3821f70e090",
   "metadata": {},
   "outputs": [
    {
     "data": {
      "text/plain": [
       "Status\n",
       "Implemented    4\n",
       "In Progress    3\n",
       "Pending        5\n",
       "Name: Risk Rating (1-5), dtype: int64"
      ]
     },
     "metadata": {},
     "output_type": "display_data"
    }
   ],
   "source": [
    "# Maximum Risk Rating by Status\n",
    "max_risk = df.groupby(\"Status\")[\"Risk Rating (1-5)\"].max()\n",
    "# Print resuts\n",
    "display(max_risk)"
   ]
  },
  {
   "cell_type": "code",
   "execution_count": 9,
   "id": "cd84de31-2b02-430f-b701-e3c5bbdb92a1",
   "metadata": {},
   "outputs": [
    {
     "data": {
      "text/plain": [
       "Status\n",
       "Implemented    2\n",
       "In Progress    3\n",
       "Pending        5\n",
       "Name: Risk Rating (1-5), dtype: int64"
      ]
     },
     "metadata": {},
     "output_type": "display_data"
    }
   ],
   "source": [
    "# Minium Risk Rating by Status\n",
    "min_risk = df.groupby(\"Status\")[\"Risk Rating (1-5)\"].min()\n",
    "# Print results\n",
    "display(min_risk)"
   ]
  },
  {
   "cell_type": "markdown",
   "id": "7a040e98-7673-4b37-bcf5-304d4b3fc286",
   "metadata": {},
   "source": [
    "Work done by Michael Lumor"
   ]
  },
  {
   "cell_type": "code",
   "execution_count": null,
   "id": "9ad0fcef-12d4-495b-968d-0922d2b1c40b",
   "metadata": {},
   "outputs": [],
   "source": []
  }
 ],
 "metadata": {
  "kernelspec": {
   "display_name": "Python 3 (ipykernel)",
   "language": "python",
   "name": "python3"
  },
  "language_info": {
   "codemirror_mode": {
    "name": "ipython",
    "version": 3
   },
   "file_extension": ".py",
   "mimetype": "text/x-python",
   "name": "python",
   "nbconvert_exporter": "python",
   "pygments_lexer": "ipython3",
   "version": "3.12.3"
  }
 },
 "nbformat": 4,
 "nbformat_minor": 5
}
